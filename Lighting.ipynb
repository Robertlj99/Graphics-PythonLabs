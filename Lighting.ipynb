{
 "nbformat": 4,
 "nbformat_minor": 0,
 "metadata": {
  "colab": {
   "provenance": []
  },
  "kernelspec": {
   "name": "python3",
   "display_name": "Python 3"
  },
  "language_info": {
   "name": "python"
  }
 },
 "cells": [
  {
   "cell_type": "code",
   "execution_count": 38,
   "metadata": {
    "id": "eosMZXb5D-Os"
   },
   "outputs": [],
   "source": [
    "import numpy as np\n",
    "\n",
    "mdiff = np.array([[0.3],\n",
    "              [0.1],\n",
    "              [0.3]])\n",
    "\n",
    "mspec = np.array([[0.6],\n",
    "              [0.6],\n",
    "              [0.6]])\n",
    "\n",
    "mamb = np.array([[0.1],\n",
    "              [0.1],\n",
    "              [0.1]])\n",
    "\n",
    "mgls = 3\n",
    "\n",
    "n = np.array([[1.1],\n",
    "              [3.7],\n",
    "              [3.9]])\n",
    "\n",
    "l = np.array([[1.8],\n",
    "              [1.6],\n",
    "              [1.5]])\n",
    "\n",
    "v = np.array([[4.7],\n",
    "              [1.6],\n",
    "              [3.2]])\n",
    "\n",
    "s = np.array([[0.9],\n",
    "              [0.9],\n",
    "              [0.9]])\n"
   ]
  },
  {
   "cell_type": "code",
   "source": [
    "nhat = n/np.linalg.norm(n)\n",
    "lhat = l/np.linalg.norm(l)\n",
    "vhat = v/np.linalg.norm(v)"
   ],
   "metadata": {
    "id": "0fIfhKO4i2ya"
   },
   "execution_count": 39,
   "outputs": []
  },
  {
   "cell_type": "code",
   "source": [
    "#r = np.array([[0.9],\n",
    "#              [0.6],\n",
    "#              [3.0]])\n",
    "#rhat = r/np.linalg.norm(r)\n",
    "\n",
    "# OR\n",
    "\n",
    "rhat = 2*np.sum(lhat*nhat)*nhat - lhat\n",
    "\n",
    "print(rhat)"
   ],
   "metadata": {
    "colab": {
     "base_uri": "https://localhost:8080/"
    },
    "id": "Vz8dnVvtjicX",
    "outputId": "b78c9a9b-52d1-436e-d9e3-de18d38f3ee9"
   },
   "execution_count": 41,
   "outputs": [
    {
     "output_type": "stream",
     "name": "stdout",
     "text": [
      "[[-0.28032418]\n",
      " [ 0.62711238]\n",
      " [ 0.7267382 ]]\n"
     ]
    }
   ]
  },
  {
   "cell_type": "code",
   "source": [
    "cdiff = (s*mdiff)*np.sum(nhat*lhat)\n",
    "\n",
    "print(cdiff)"
   ],
   "metadata": {
    "colab": {
     "base_uri": "https://localhost:8080/"
    },
    "id": "hiBROsI5i8j6",
    "outputId": "4666323d-32c7-4cde-8ab1-688ec120394a"
   },
   "execution_count": 42,
   "outputs": [
    {
     "output_type": "stream",
     "name": "stdout",
     "text": [
      "[[0.23845868]\n",
      " [0.07948623]\n",
      " [0.23845868]]\n"
     ]
    }
   ]
  },
  {
   "cell_type": "code",
   "source": [
    "cspec = (s*mspec)*np.sum(vhat*rhat)**mgls\n",
    "\n",
    "print(cspec)"
   ],
   "metadata": {
    "colab": {
     "base_uri": "https://localhost:8080/"
    },
    "id": "A0F6Z7CKjqrN",
    "outputId": "844cefe2-94a2-4be9-fdf6-cb20938d3e31"
   },
   "execution_count": 43,
   "outputs": [
    {
     "output_type": "stream",
     "name": "stdout",
     "text": [
      "[[0.02132306]\n",
      " [0.02132306]\n",
      " [0.02132306]]\n"
     ]
    }
   ]
  },
  {
   "cell_type": "code",
   "source": [
    "camb = mamb * s"
   ],
   "metadata": {
    "id": "qODnTr96jEh6"
   },
   "execution_count": 44,
   "outputs": []
  },
  {
   "cell_type": "code",
   "source": [
    "cfinal = cdiff + cspec + camb\n",
    "\n",
    "print(cfinal)"
   ],
   "metadata": {
    "colab": {
     "base_uri": "https://localhost:8080/"
    },
    "id": "vczYQw-9k-Uc",
    "outputId": "883abfe8-a42f-460a-af7d-03eff4008a4e"
   },
   "execution_count": 45,
   "outputs": [
    {
     "output_type": "stream",
     "name": "stdout",
     "text": [
      "[[0.34978175]\n",
      " [0.19080929]\n",
      " [0.34978175]]\n"
     ]
    }
   ]
  },
  {
   "cell_type": "code",
   "source": [
    "# Useful global scene variables\n",
    "mamb = light[\"AmbientLight\"]\n",
    "s = light[\"LightColor\"]\n",
    "camb = light[\"AmbientLight\"] * light[\"LightColor\"]\n",
    "l = light[\"DirectionToLight\"]\n",
    "lhat = l / np.linalg.norm(l)\n",
    "r_0 = camera[\"LookFrom\"]\n",
    "pat = camera[\"LookAt\"]\n",
    "up = camera[\"Up\"]\n",
    "fov = camera[\"FieldOfView\"]"
   ],
   "metadata": {
    "id": "BvMRgzEdlj0h"
   },
   "execution_count": null,
   "outputs": []
  }
 ]
}
